{
 "cells": [
  {
   "cell_type": "code",
   "execution_count": 2,
   "id": "83a08871-5f05-4f54-ae59-541deb98ca0a",
   "metadata": {},
   "outputs": [],
   "source": [
    "import numpy as np #importar libreria matematica\n",
    "import plotly.express as px #herramienta de plot\n",
    "import plotly.graph_objects as go"
   ]
  },
  {
   "attachments": {
    "29779d5b-a826-4b02-b52e-6db6bd661dc9.png": {
     "image/png": "[encoded data removed]"
    }
   },
   "cell_type": "markdown",
   "id": "d2c2f2ba-02d0-442b-abdd-203ea4bc1070",
   "metadata": {},
   "source": [
    "# Ejercicio Trabajo y Energía\n",
    "\n",
    ">El collar de 2 kg se libera del reposo en A y se desliza por la varilla fija inclinada en la vertical \n",
    "avión. El coeficiente de fricción cinética es 0.40. \n",
    "\n",
    "![ejercicio trab y ene.png](attachment:29779d5b-a826-4b02-b52e-6db6bd661dc9.png)\n",
    "\n",
    "- Calcule (a) la velocidad v del collar ya que golpea el resorte y (b) la deflexión máxima x de la primavera.\n",
    "\n",
    ">Para la el primer literal nos ayudamos con el diagrama de cuerpo libre y el principio de trabajo y energía cinética donde:\n",
    "\n",
    "$$T_{A}+U_{A-B}=T_{B}$$\n",
    "\n",
    "$$\\frac{1}{2}*m*V_{A}^2+\\int_A^B \\vec{\\sum{F}}\\vec{{d}r}=\\frac{1}{2}*m*V_{B}^2$$\n",
    "\n",
    ">Al inicio no tenemos velocidad por lo tanto la energía cinética en A es cero y como la fuerza es constante \n",
    "sale de la integral \n",
    ">Se llega a lo siguiente:\n",
    "$$\\sum{F}*\\int_A^B {d}r= \\frac{1}{2}*m*V_{B}^2$$\n",
    "\n",
    "$$(P_{x}-F_{r})(AB)=\\frac{1}{2}*m*V_{B}^2$$\n",
    "\n",
    "$$(m*g*\\sin{60^o}-N*u)(AB)=\\frac{1}{2}*m*V_{B}^2$$\n",
    "\n",
    "$$(m*g*\\sin{60^o}-m*g*\\cos{60^o}*u)(AB)=\\frac{1}{2}*m*V_{B}^2$$\n",
    "\n",
    ">A continuación las masas se cancelan\n",
    "\n",
    "$$(g*\\sin{60^o}-g*\\cos{60^o}*u)(AB)=\\frac{1}{2}*V_{B}^2$$\n",
    "\n",
    "$$2(g*\\sin{60^o}-g*\\cos{60^o}*u)(AB)=V_{B}^2$$\n",
    "\n",
    "$$ V_{B}=\\sqrt{2(g*\\sin{60^o}-g*\\cos{60^o}*u)(AB)}$$\n",
    "\n",
    "$$V_{B}=\\sqrt{2g(\\sin{60^o}-\\cos{60^o}*u)(AB)}$$\n",
    "\n",
    "$$V_{B}=\\sqrt{2(9.81)(\\sin{60^o}-\\cos{60^o}*(0.40))(0.5)}$$\n",
    "\n",
    "$$V_{B}=2.556 [m/s]$$\n",
    "\n",
    "\n",
    "\n",
    "\n"
   ]
  },
  {
   "cell_type": "code",
   "execution_count": null,
   "id": "07a5d1b1-00b6-45dc-a976-aacf80131435",
   "metadata": {},
   "outputs": [],
   "source": []
  }
 ],
 "metadata": {
  "kernelspec": {
   "display_name": "Python 3",
   "language": "python",
   "name": "python3"
  },
  "language_info": {
   "codemirror_mode": {
    "name": "ipython",
    "version": 3
   },
   "file_extension": ".py",
   "mimetype": "text/x-python",
   "name": "python",
   "nbconvert_exporter": "python",
   "pygments_lexer": "ipython3",
   "version": "3.8.8"
  }
 },
 "nbformat": 4,
 "nbformat_minor": 5
}
